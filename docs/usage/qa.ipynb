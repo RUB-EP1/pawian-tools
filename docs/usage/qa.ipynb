{
 "cells": [
  {
   "cell_type": "markdown",
   "metadata": {},
   "source": [
    "# Investigate content of QA pawianHists.root file"
   ]
  },
  {
   "cell_type": "markdown",
   "metadata": {},
   "source": [
    "This notebook shows how to to investigate the content of a `pawianHists.root` file that is the result of the QA step in Pawian. We make use of the {mod}`pawian.qa` module of PawianTools."
   ]
  },
  {
   "cell_type": "markdown",
   "metadata": {},
   "source": [
    "## Draw contained histograms"
   ]
  },
  {
   "cell_type": "markdown",
   "metadata": {},
   "source": [
    "A `pawianHists.root` comes with several histograms of several PWA distributions—one for data, one for the fit, and one for Monte Carlo. The {class}`.PawianHists` class contains a few methods to quickly plot these 'contained' histograms."
   ]
  },
  {
   "cell_type": "markdown",
   "metadata": {},
   "source": [
    "First, open a `pawianHists.root` file as a {obj}`.PawianHists` object. In this example, we use the ROOT file that is provided in the tests of the {mod}`pawian.qa` module."
   ]
  },
  {
   "cell_type": "code",
   "execution_count": null,
   "metadata": {},
   "outputs": [],
   "source": [
    "from os.path import dirname, realpath\n",
    "\n",
    "import pawian\n",
    "from pawian.qa import PawianHists\n",
    "\n",
    "sample_dir = f\"{dirname(realpath(pawian.__file__))}/samples\"\n",
    "filename = f\"{sample_dir}/pawianHists_ROOT6_DDpi.root\"\n",
    "pawian_hists = PawianHists(filename)"
   ]
  },
  {
   "cell_type": "markdown",
   "metadata": {},
   "source": [
    "Now it is quite easy to see which histograms are contained in the histogram file."
   ]
  },
  {
   "cell_type": "code",
   "execution_count": null,
   "metadata": {},
   "outputs": [],
   "source": [
    "from pprint import pprint\n",
    "\n",
    "histogram_names = pawian_hists.histogram_names\n",
    "print(f\"Number of histograms: {len(histogram_names)}\\n\")\n",
    "pprint(histogram_names)"
   ]
  },
  {
   "cell_type": "markdown",
   "metadata": {},
   "source": [
    "As can be seen, the names can be grouped by `Fit`, `Data`, and `MC`. The property {attr}`.unique_histogram_names` helps to identify which different types there are."
   ]
  },
  {
   "cell_type": "code",
   "execution_count": null,
   "metadata": {},
   "outputs": [],
   "source": [
    "unique_names = pawian_hists.unique_histogram_names\n",
    "print(f\"Number of different histogram types: {len(unique_names)}\\n\")\n",
    "pprint(unique_names)"
   ]
  },
  {
   "cell_type": "markdown",
   "metadata": {},
   "source": [
    "Now, let's have a quick look at one of these histograms:"
   ]
  },
  {
   "cell_type": "code",
   "execution_count": null,
   "metadata": {},
   "outputs": [],
   "source": [
    "import matplotlib.pyplot as plt\n",
    "\n",
    "pawian_hists.draw_histogram(\"DatapipDm\")\n",
    "plt.show()"
   ]
  },
  {
   "cell_type": "markdown",
   "metadata": {},
   "source": [
    "This is quite ugly and, frankly speaking, not very interesting, because we actually want to **assess the quality** (QA) of our fit. Of course, you could just plot the histogram of the fit in the same figure, but that would still need some polishing to make it look nicer. And of course, you have to pay attention to use the correct names..."
   ]
  },
  {
   "cell_type": "code",
   "execution_count": null,
   "metadata": {},
   "outputs": [],
   "source": [
    "pawian_hists.draw_histogram(\"DatapipDm\")\n",
    "pawian_hists.draw_histogram(\"FitpipDm\")\n",
    "plt.show()"
   ]
  },
  {
   "cell_type": "markdown",
   "metadata": {},
   "source": [
    "There is an easier way to do it. For a nice comparison plot, we use the {meth}`.draw_combined_histogram` method. This method works in the same way as {meth}`.draw_histogram`, but it needs one of the {meth}`.unique_histogram_names`.\n",
    "\n",
    "Note how this method can also take arguments from {obj}`matplotlib.pyplot.hist` to make it look fancier, such as `density` to make the plots normalized. The histograms in the figure have been embedded with titles, so that we can nicely generate a legend as well.\n",
    "\n",
    "Another thing to note: this time we draw the histogram on an {obj}`~matplotlib.axes.Axes` ({func}`~matplotlib.pyplot.subplot`), instead of the default {mod}`~matplotlib.pyplot` module, as to give us the means to modify the figure a bit.\n",
    "\n",
    "We also applied a little trick here: we used {func}`~pawian.latex.convert` from the {mod}`pawian.latex` module to convert the histogram name to a LaTeX string."
   ]
  },
  {
   "cell_type": "code",
   "execution_count": null,
   "metadata": {},
   "outputs": [],
   "source": [
    "histogram_name = \"pipDm\"\n",
    "fig = plt.figure(tight_layout=True, figsize=(6, 4), dpi=120).add_subplot()\n",
    "pawian_hists.draw_combined_histogram(\n",
    "    histogram_name, plot_on=fig, density=True, alpha=0.5\n",
    ")\n",
    "plt.ylim(bottom=0)\n",
    "plt.legend()\n",
    "\n",
    "from pawian.latex import convert\n",
    "\n",
    "plt.xlabel(f\"$M({convert(histogram_name)}$)\")\n",
    "plt.ylabel(\"counts\")\n",
    "plt.show()"
   ]
  },
  {
   "cell_type": "markdown",
   "metadata": {},
   "source": [
    "Finally, a thing you may want to have done immediately is to generate an overview of all histograms. This can be done with the {meth}`.draw_all_histograms` method. It takes some time to draw them all, but it's worth it!\n",
    "\n",
    "By the way, notice how the Monte Carlo samples have been hidden by using `mc=False`. You can do the same with `data=False` and/or `fit=False`.\n",
    "\n",
    "This method again takes arguments from {func}`matplotlib.pyplot.hist`, so feel free to play around and modify the figures."
   ]
  },
  {
   "cell_type": "code",
   "execution_count": null,
   "metadata": {},
   "outputs": [],
   "source": [
    "fig = plt.figure(tight_layout=True, figsize=(15, 14))\n",
    "pawian_hists.draw_all_histograms(\n",
    "    mc=False, plot_on=fig, legend=\"upper right\", alpha=0.5, density=True\n",
    ")\n",
    "plt.show()"
   ]
  },
  {
   "cell_type": "markdown",
   "metadata": {},
   "source": [
    "## Plot vector distributions"
   ]
  },
  {
   "cell_type": "markdown",
   "metadata": {},
   "source": [
    "A `pawianHists.root` file also contains trees with the original Lorentz vectors of the data and of the phase space sample. The weights of the phase space sample represent the intensity of fit result, so you can use those to draw the fit distribution.\n",
    "\n",
    "The {class}`.PawianHists` class wraps its lorentz vectors in a {class}`~pandas.DataFrame` and you can access its members with the the DataFrame accessors provided by the {mod}`pawian.data` module."
   ]
  },
  {
   "cell_type": "code",
   "execution_count": null,
   "metadata": {},
   "outputs": [],
   "source": [
    "print(pawian_hists.data.pwa.mass.mean())\n",
    "print(\"\\nAverage data weight:\", pawian_hists.data.pwa.weights.mean())\n",
    "print(\"Number of data events:\", len(pawian_hists.data))\n",
    "print(\"Number of MC events:\", len(pawian_hists.fit))"
   ]
  },
  {
   "cell_type": "markdown",
   "metadata": {},
   "source": [
    "The main thing we are interested in, is to compare the fit distributions with those of data. This is the same as with the histograms above, but now we can take an arbitrary binning using the functionality offered by {class}`pandas.DataFrame`."
   ]
  },
  {
   "cell_type": "code",
   "execution_count": null,
   "metadata": {},
   "outputs": [],
   "source": [
    "data = pawian_hists.data\n",
    "fit = pawian_hists.fit\n",
    "piDm_data = data[\"pi+\"] + data[\"D-\"]\n",
    "piDm_fit = fit[\"pi+\"] + fit[\"D-\"]\n",
    "\n",
    "plot_options = {\"bins\": 150, \"density\": True, \"alpha\": 0.5}\n",
    "piDm_data.pwa.mass.hist(**plot_options, weights=data.pwa.intensities)\n",
    "piDm_fit.pwa.mass.hist(**plot_options, weights=fit.pwa.intensities);"
   ]
  }
 ],
 "metadata": {
  "kernelspec": {
   "display_name": "Python 3",
   "language": "python",
   "name": "python3"
  },
  "language_info": {
   "codemirror_mode": {
    "name": "ipython",
    "version": 3
   },
   "file_extension": ".py",
   "mimetype": "text/x-python",
   "name": "python",
   "nbconvert_exporter": "python",
   "pygments_lexer": "ipython3",
   "version": "3.8.5"
  }
 },
 "nbformat": 4,
 "nbformat_minor": 4
}
