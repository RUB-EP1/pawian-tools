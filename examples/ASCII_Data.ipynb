{
 "cells": [
  {
   "cell_type": "markdown",
   "metadata": {},
   "source": [
    "# Working with ASCII momentum tuple files"
   ]
  },
  {
   "cell_type": "markdown",
   "metadata": {},
   "source": [
    "Pawian usually imports its data from momentum tuples written to an ASCII text file. Each line consists of four values: the energy and the $x$, $y$, $z$-components of the 3-momentum. The lines are grouped by event and can be preceded by an event weight. An example of two weighted events of three particles each would be:\n",
    "```\n",
    "0.99407\n",
    "-0.00357645   0.0962561   0.0181079    0.170545\n",
    "   0.224019    0.623156    0.215051     1.99057\n",
    "  -0.174404   -0.719412   -0.233159      2.0243\n",
    "0.990748\n",
    " -0.0328198   0.0524406   0.0310079    0.155783\n",
    "  -0.619592    0.141315     0.32135     1.99619\n",
    "   0.698477   -0.193756   -0.352357     2.03593\n",
    "```\n",
    "The `pawian.data` module imports such an ASCII file to a nicely formatted [pandas.DataFrame](https://pandas.pydata.org/pandas-docs/stable/reference/api/pandas.DataFrame.html) and provides a few accessors that facilitate visualisation of the content of the ASCII file."
   ]
  },
  {
   "cell_type": "markdown",
   "metadata": {},
   "source": [
    "The fact that we works with a `pandas.DataFrame` also allows one to make selections of the content and write the filtered data set to another ASCII file for Pawian (and whatever other format is [already supported](https://pandas.pydata.org/pandas-docs/stable/reference/frame.html#serialization-io-conversion)) by `pandas.DataFrame`."
   ]
  },
  {
   "cell_type": "markdown",
   "metadata": {},
   "source": [
    "## Import data"
   ]
  },
  {
   "cell_type": "markdown",
   "metadata": {},
   "source": [
    "In this example, we use the test files provided the `pawian.data` module folder in the repository."
   ]
  },
  {
   "cell_type": "code",
   "execution_count": null,
   "metadata": {},
   "outputs": [],
   "source": [
    "from os.path import dirname, realpath\n",
    "import pawian\n",
    "sample_dir = f\"{dirname(realpath(pawian.__file__))}/samples\"\n",
    "filename_data = f'{sample_dir}/momentum_tuples_data.dat'\n",
    "filename_mc = f'{sample_dir}/momentum_tuples_mc.dat'"
   ]
  },
  {
   "cell_type": "markdown",
   "metadata": {},
   "source": [
    "The data file describes momentum tuples for a $e^+e^- \\to \\pi+D^0D^+$ decay (in that order!). This information can be passed on to the `read_ascii` function to create a `pandas.DataFrame`."
   ]
  },
  {
   "cell_type": "code",
   "execution_count": null,
   "metadata": {},
   "outputs": [],
   "source": [
    "from pawian.data import read_ascii\n",
    "particles = ['pi+', 'D0', 'D-']\n",
    "frame = read_ascii(filename_data, particles=particles)\n",
    "frame"
   ]
  },
  {
   "cell_type": "markdown",
   "metadata": {},
   "source": [
    "## Investigate content of the dataframe"
   ]
  },
  {
   "cell_type": "markdown",
   "metadata": {},
   "source": [
    "Notice that the dataframe makes use of [multi-indexing](https://pandas.pydata.org/pandas-docs/stable/user_guide/advanced.html) for the columns. This allows us for instance to make easy selections per particle, like this:"
   ]
  },
  {
   "cell_type": "code",
   "execution_count": null,
   "metadata": {},
   "outputs": [],
   "source": [
    "frame['pi+'] + frame['D-']"
   ]
  },
  {
   "cell_type": "code",
   "execution_count": null,
   "metadata": {},
   "outputs": [],
   "source": [
    "frame[['pi+', 'D0']].mean()"
   ]
  },
  {
   "cell_type": "markdown",
   "metadata": {},
   "source": [
    "Even better, we immediately have all powerful techniques of `pandas.DataFrame` at our disposal:"
   ]
  },
  {
   "cell_type": "code",
   "execution_count": null,
   "metadata": {},
   "outputs": [],
   "source": [
    "frame['D-'].hist(bins=50);"
   ]
  },
  {
   "cell_type": "code",
   "execution_count": null,
   "metadata": {},
   "outputs": [],
   "source": [
    "frame['weight'].hist(bins=80);"
   ]
  },
  {
   "cell_type": "markdown",
   "metadata": {},
   "source": [
    "## Special accessors"
   ]
  },
  {
   "cell_type": "markdown",
   "metadata": {},
   "source": [
    "Now that we have imported from the `pawian.data` sub-module, a few simple [accessors to the dataframe](https://pandas.pydata.org/pandas-docs/stable/development/extending.html#registering-custom-accessors) have become available in the namespace `pawian` of the `pandas.DataFrame`. They can be called from the `pawian` namespace like so:"
   ]
  },
  {
   "cell_type": "code",
   "execution_count": null,
   "metadata": {},
   "outputs": [],
   "source": [
    "print(\"Has weights:       \", frame.pawian.has_weights)\n",
    "print(\"Contains particles:\", frame.pawian.particles)\n",
    "print(\"Contains momenta:  \", frame.pawian.momentum_labels)"
   ]
  },
  {
   "cell_type": "markdown",
   "metadata": {},
   "source": [
    "The accessors also allow to get kinematic variables:"
   ]
  },
  {
   "cell_type": "code",
   "execution_count": null,
   "metadata": {},
   "outputs": [],
   "source": [
    "frame.pawian.p_xyz"
   ]
  },
  {
   "cell_type": "code",
   "execution_count": null,
   "metadata": {},
   "outputs": [],
   "source": [
    "frame.pawian.mass.mean()"
   ]
  },
  {
   "cell_type": "markdown",
   "metadata": {},
   "source": [
    "And the best part: you can just add the vectors and do analysis on for isntance their combined invariant mass!"
   ]
  },
  {
   "cell_type": "code",
   "execution_count": null,
   "metadata": {},
   "outputs": [],
   "source": [
    "dm = frame['D-']\n",
    "pip = frame['pi+']\n",
    "(dm + pip).pawian.mass.hist(bins=100);"
   ]
  },
  {
   "cell_type": "markdown",
   "metadata": {},
   "source": [
    "## Selecting and exporting"
   ]
  },
  {
   "cell_type": "markdown",
   "metadata": {},
   "source": [
    "As mentiond, `pandas.DataFrame` allows us to make certain selections:"
   ]
  },
  {
   "cell_type": "code",
   "execution_count": null,
   "metadata": {},
   "outputs": [],
   "source": [
    "weights = frame['weight']\n",
    "selection = frame[weights > .95]\n",
    "selection"
   ]
  },
  {
   "cell_type": "markdown",
   "metadata": {},
   "source": [
    "The frame can then be exported to an ASCII file that can be parsed by pawian like so: "
   ]
  },
  {
   "cell_type": "code",
   "execution_count": null,
   "metadata": {},
   "outputs": [],
   "source": [
    "output_file = 'selected_data.dat'\n",
    "selection.pawian.write_ascii(output_file)"
   ]
  },
  {
   "cell_type": "code",
   "execution_count": null,
   "metadata": {},
   "outputs": [],
   "source": [
    "imported_frame = read_ascii(output_file, particles)\n",
    "imported_frame"
   ]
  }
 ],
 "metadata": {
  "kernelspec": {
   "display_name": "Python 3",
   "language": "python",
   "name": "python3"
  },
  "language_info": {
   "codemirror_mode": {
    "name": "ipython",
    "version": 3
   },
   "file_extension": ".py",
   "mimetype": "text/x-python",
   "name": "python",
   "nbconvert_exporter": "python",
   "pygments_lexer": "ipython3",
   "version": "3.8.5"
  }
 },
 "nbformat": 4,
 "nbformat_minor": 2
}
