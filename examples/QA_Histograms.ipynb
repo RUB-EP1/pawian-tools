{
 "cells": [
  {
   "cell_type": "markdown",
   "metadata": {},
   "source": [
    "# Investigate content of QA pawianHists.root file"
   ]
  },
  {
   "cell_type": "markdown",
   "metadata": {},
   "source": [
    "This notebook shows how to to investigate the content of a `pawianHists.root` file that is the result of the QA step in Pawian. We make use of the `pawian.qa` module of pyPawianTools."
   ]
  },
  {
   "cell_type": "markdown",
   "metadata": {},
   "source": [
    "## Draw contained histograms"
   ]
  },
  {
   "cell_type": "markdown",
   "metadata": {},
   "source": [
    "A `pawianHists.root` comes with several histograms of several PWA distributions—one for data, one for the fit, and one for Monte Carlo. The `PawianHists` class contains a few methods to quickly plot these 'contained' histograms."
   ]
  },
  {
   "cell_type": "markdown",
   "metadata": {},
   "source": [
    "First, open a `pawianHists.root` file as a `PawianHists` object. In this example, we use the ROOT file that is provided in the tests of the `pawian.qa` module."
   ]
  },
  {
   "cell_type": "code",
   "execution_count": null,
   "metadata": {},
   "outputs": [],
   "source": [
    "from os.path import dirname, realpath\n",
    "import pawian.qa as qa\n",
    "from pawian.qa import PawianHists\n",
    "\n",
    "qa_dir = dirname(realpath(qa.__file__))\n",
    "filename = f'{qa_dir}/test/pawianHists_epem.root'\n",
    "pawian_hists = PawianHists(filename)"
   ]
  },
  {
   "cell_type": "markdown",
   "metadata": {},
   "source": [
    "Now it is quite easy to see which histograms are contained in the histogram file."
   ]
  },
  {
   "cell_type": "code",
   "execution_count": null,
   "metadata": {},
   "outputs": [],
   "source": [
    "histogram_names = pawian_hists.histogram_names\n",
    "print(f'Number of histograms: {len(histogram_names)}\\n')\n",
    "print(histogram_names)"
   ]
  },
  {
   "cell_type": "markdown",
   "metadata": {},
   "source": [
    "As can be seen, the names can be grouped by `Fit`, `Data`, and `MC`. The property `unique_histograme_names` helps to identify which different types there are."
   ]
  },
  {
   "cell_type": "code",
   "execution_count": null,
   "metadata": {
    "scrolled": true
   },
   "outputs": [],
   "source": [
    "unique_names = pawian_hists.unique_histogram_names\n",
    "print(f'Number of different histogram types: {len(unique_names)}\\n')\n",
    "print(unique_names)"
   ]
  },
  {
   "cell_type": "markdown",
   "metadata": {},
   "source": [
    "Now, let's have a quick look at one of these histograms:"
   ]
  },
  {
   "cell_type": "code",
   "execution_count": null,
   "metadata": {
    "scrolled": true
   },
   "outputs": [],
   "source": [
    "import matplotlib.pyplot as plt\n",
    "pawian_hists.draw_histogram('DatapionpDm')\n",
    "plt.show()"
   ]
  },
  {
   "cell_type": "markdown",
   "metadata": {},
   "source": [
    "This is quite ugly and, frankly speaking, not very interesting, because we actually want to **assess the quality** (QA) of our fit. Of course, you could just plot the histogram of the fit in the same figure, but that would still need some polishing to make it look nicer. And of course, you have to pay attention to use the correct names..."
   ]
  },
  {
   "cell_type": "code",
   "execution_count": null,
   "metadata": {},
   "outputs": [],
   "source": [
    "pawian_hists.draw_histogram('DatapionpDm')\n",
    "pawian_hists.draw_histogram('FitpionpDm')\n",
    "plt.show()"
   ]
  },
  {
   "cell_type": "markdown",
   "metadata": {},
   "source": [
    "There is an easier way to do it. For a nice comparison plot, we use the `draw_combined_histogram` method. This method works in the same way as `draw_histogram`, but it needs one of the `unique_hisogram_names`.\n",
    "\n",
    "Note how this method can also take arguments from [`matplotlib.pyplot.hist`](https://matplotlib.org/api/_as_gen/matplotlib.pyplot.hist.html) to make it look fancier, such as `density` to make the plots normalised. The histograms in the figure have been embedded with titles, so that we can nicely generate a legend as well.\n",
    "\n",
    "Another thing to note: this time we draw the histogram on `pyplot.AxesSubplot` instead of the default `pyplot` module, as to give us the means to modify the figure a bit.\n",
    "\n",
    "We also applied a little trick here: we used `convert` from the `pawian.latex` module to convert the histogram name to a LaTeX string."
   ]
  },
  {
   "cell_type": "code",
   "execution_count": null,
   "metadata": {
    "scrolled": false
   },
   "outputs": [],
   "source": [
    "histogram_name = 'pionpDm'\n",
    "fig = plt.figure(tight_layout=True, figsize=(6, 4), dpi=120).add_subplot()\n",
    "pawian_hists.draw_combined_histogram(histogram_name, plot_on=fig, density=True, alpha=.5)\n",
    "plt.ylim(bottom=0)\n",
    "plt.legend()\n",
    "\n",
    "from pawian.latex import convert\n",
    "plt.xlabel(f'$M({convert(histogram_name)}$)')\n",
    "plt.ylabel('counts')\n",
    "plt.show()"
   ]
  },
  {
   "cell_type": "markdown",
   "metadata": {},
   "source": [
    "Finally, a thing you may want to have done immediately is to generate an overview of all histograms. This can be done with the `draw_all_histograms` method. It takes some time to draw them all, but it's worth it!\n",
    "\n",
    "By the way, notice how the Monte Carlo samples have been hidden by using `mc=False`. You can do the same with `data=False` and/or `fit=False`.\n",
    "\n",
    "This method again takes arguments from [`matplotlib.pyplot.hist`](https://matplotlib.org/api/_as_gen/matplotlib.pyplot.hist.html), so feel free to play around and modify the figures."
   ]
  },
  {
   "cell_type": "code",
   "execution_count": null,
   "metadata": {},
   "outputs": [],
   "source": [
    "fig = plt.figure(tight_layout=True, figsize=(15, 14))\n",
    "pawian_hists.draw_all_histograms(mc=False,\n",
    "    plot_on=fig, legend='upper right', alpha=.5, density=True)\n",
    "plt.show()"
   ]
  },
  {
   "cell_type": "markdown",
   "metadata": {},
   "source": [
    "## Plot vector distributions"
   ]
  },
  {
   "cell_type": "markdown",
   "metadata": {},
   "source": [
    "A `pawianHists.root` file also contains trees with the original Lorentz vectors of the data and of the Monte Carlo sample. You can also easily access these vectors from the `PawianHists` object.\n",
    "\n",
    "`PawianHists` objects contain an `EventSet` for data and for fitted data. In turn, each `EventSet` contains an event-based of weights and a dictionary of Lorentz vectors. Each entry in the dictionary represents one particle."
   ]
  },
  {
   "cell_type": "code",
   "execution_count": null,
   "metadata": {},
   "outputs": [],
   "source": [
    "print('Contains particles:', pawian_hists.data.particles)\n",
    "print('Average data weight:', pawian_hists.data.weights.mean())\n",
    "print('Number of data events:', len(pawian_hists.data))\n",
    "print('Number of MC events:', len(pawian_hists.fit))"
   ]
  },
  {
   "cell_type": "markdown",
   "metadata": {},
   "source": [
    "We are interested in those arrays of Lorentz vectors. These can be obtained by calling an index on either the `data` or `fit` member. Then it's merely a matter of calling the methods of the [`TLorentzVector` class](https://github.com/scikit-hep/uproot-methods/blob/master/uproot_methods/classes/TLorentzVector.py) of `uproot_methods` to obtain observables in which you are interested."
   ]
  },
  {
   "cell_type": "code",
   "execution_count": null,
   "metadata": {},
   "outputs": [],
   "source": [
    "pions = pawian_hists.data['pion+']\n",
    "Dm = pawian_hists.data['D-']\n",
    "D0 = pawian_hists.data['D0']\n",
    "\n",
    "for particle, vectors in pawian_hists.data.items():\n",
    "    print(f'Mean mass {particle:<5} = {vectors.mass.mean():7.5} ± {vectors.mass.std():5.3}')"
   ]
  },
  {
   "cell_type": "markdown",
   "metadata": {},
   "source": [
    "Note also that these `TLorentzVector` arrays can be added and then plotted in a histogram!"
   ]
  },
  {
   "cell_type": "code",
   "execution_count": null,
   "metadata": {
    "scrolled": true
   },
   "outputs": [],
   "source": [
    "piDm = pions + Dm\n",
    "fig1, fig2 = plt.figure(figsize=(15, 5)).subplots(1, 2)\n",
    "fig1.hist(piDm.mass, bins=30)\n",
    "fig1.set_title('$M(\\pi^+D^-)$')\n",
    "fig2.hist(piDm.perp, bins=30)\n",
    "fig2.set_title('$|p_{\\pi^+D^-}|$')\n",
    "plt.show()"
   ]
  },
  {
   "cell_type": "markdown",
   "metadata": {},
   "source": [
    "The [`TLorentzVector` class](https://github.com/scikit-hep/uproot-methods/blob/master/uproot_methods/classes/TLorentzVector.py) even has methods like `rotatey` and `boost`, effecticely allowing you to compute the relevant kinematic variables to do PWA. All you have to do is call these methods on the (added) arrays) illustrated above!"
   ]
  }
 ],
 "metadata": {
  "kernelspec": {
   "display_name": "Python 3.8.1 64-bit ('pwa': conda)",
   "language": "python",
   "name": "python38164bitpwacondaeabcd5e78a0044e4b300e5b7876b8c69"
  },
  "language_info": {
   "codemirror_mode": {
    "name": "ipython",
    "version": 3
   },
   "file_extension": ".py",
   "mimetype": "text/x-python",
   "name": "python",
   "nbconvert_exporter": "python",
   "pygments_lexer": "ipython3",
   "version": "3.8.1"
  }
 },
 "nbformat": 4,
 "nbformat_minor": 4
}
